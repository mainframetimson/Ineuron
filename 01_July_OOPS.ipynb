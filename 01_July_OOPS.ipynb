{
 "cells": [
  {
   "cell_type": "code",
   "execution_count": 3,
   "id": "832d10f7-362a-4754-b332-025f02f07c64",
   "metadata": {},
   "outputs": [],
   "source": [
    "Question:\n",
    "    1)What is the primary goal of Object-Oriented Programming (OOP)?\n",
    "\n",
    "Answer:\n",
    "    i)The primary goal of Object-Oriented Programming is for the code reusability.\n",
    "    Just like a function we define the classes and can access its objects and attributes throughout the code.\n",
    "    ii)It also helps us to store the code organised and structured.\n",
    "    iii) As the code in organised based on its behaviour or charecteristics in classes, easy to debug in a complex application."
   ]
  },
  {
   "cell_type": "code",
   "execution_count": 10,
   "id": "a223ea3a-d626-4626-9f1c-8ec23994e6c5",
   "metadata": {},
   "outputs": [
    {
     "name": "stdout",
     "output_type": "stream",
     "text": [
      "Toyota is a car company\n"
     ]
    }
   ],
   "source": [
    "Question:\n",
    "    2)What is an object in Python?\n",
    "    \n",
    "Answer:\n",
    "    i)An object is an instance of the class\n",
    "    ii) we have a predefined set of blueprint as a class with some functionalities,\n",
    "       An object stores the functionality of the class with the data required for this class.\n",
    "       \n",
    "    For Example: We have a class Car which accepts an argument as Brand name. so when Car is a generic blueprint\n",
    "                for which we call the class with a brand name 'Toyota' or 'Honda' in the current instance of the class as\n",
    "                an object\n",
    "#Class is created which acts as a generic blueprint\n",
    "class Car:\n",
    "    def __init__(self,brand):\n",
    "        self.brand=brand\n",
    "        print(f'{brand} is a car company')\n",
    "#Object oject or instance of the Car with argument Toyota\n",
    "Car1=Car('Toyota')\n",
    "    \n",
    " "
   ]
  },
  {
   "cell_type": "code",
   "execution_count": 12,
   "id": "d7bc1e0f-fb9a-46a7-9bce-10c450e4c178",
   "metadata": {},
   "outputs": [],
   "source": [
    "Question:\n",
    "    3)What is a class in Python?\n",
    "    \n",
    "Answer:\n",
    "    i)A Class is a generic blueprint or reusable functionality\n",
    "    ii)It has a set of methods and attributes which can be used by the Object or instances\n",
    "    \n",
    "Example:\n",
    "    \n",
    "#Class is created which acts as a generic blueprint\n",
    "class Car:\n",
    "    def __init__(self,brand):\n",
    "        self.brand=brand\n",
    "        print(f'{brand} is a car company')"
   ]
  },
  {
   "cell_type": "code",
   "execution_count": 20,
   "id": "2fed2942-b098-476d-abfd-4a4936851cbf",
   "metadata": {},
   "outputs": [
    {
     "name": "stdout",
     "output_type": "stream",
     "text": [
      "Toyota is a leading car manufacturer\n",
      "Tesla has 6 tyres\n",
      "Toyota is the make of this car\n",
      "Tesla car has 6 tyres\n"
     ]
    }
   ],
   "source": [
    "Question:\n",
    "    4)What are attributes and methods in a class?\n",
    "    \n",
    "Answer:\n",
    "    Attributes-\n",
    "    i)Attributes are similar to variables which stores data for the instances.\n",
    "    ii)These attributes are initialised and stores data in __init__ method.\n",
    "    \n",
    "    Methods-\n",
    "    i)Methods are user defined functions within the class.\n",
    "    ii)They can have functionalities which can modify the attributed when called during an instance.\n",
    "    \n",
    "Example:\n",
    "    \n",
    "class Car:\n",
    "    def __init__(self,brand,Tyres):\n",
    "    #Brand and tyres are attributes which stores data from the arguments passed\n",
    "        self.brand=brand #Attribute 1\n",
    "        self.Tyres=Tyres #Attribute 2\n",
    "    def make(self):\n",
    "        print(f'{self.brand} is the make of this car')\n",
    "    def tyre_count(self):\n",
    "        print(f'{self.brand} car has {self.Tyres} tyres')\n",
    "\n",
    "#creating Car class \n",
    "Car1=Car('Toyota',5)\n",
    "Car2=Car('Tesla',6)\n",
    "\n",
    "#Accessing Attributes of the instances\n",
    "print(f'{Car1.brand} is a leading car manufacturer')\n",
    "print(f'Tesla has {Car2.Tyres} tyres')\n",
    "\n",
    "#calling methods of the instances\n",
    "Car1.make()\n",
    "Car2.tyre_count()\n"
   ]
  },
  {
   "cell_type": "code",
   "execution_count": 27,
   "id": "d28730eb-9a3f-4b4b-81d0-265386837d8c",
   "metadata": {},
   "outputs": [
    {
     "name": "stdout",
     "output_type": "stream",
     "text": [
      "Honda has 1 engine and 4 tyres\n"
     ]
    }
   ],
   "source": [
    "Question:\n",
    "    5)What is the difference between class variables and instance variables in Python?\n",
    "    \n",
    "Answer:\n",
    "    Class Variables-\n",
    "    i)Class variables are declared within the class but outside the methods.\n",
    "    ii)The class variables can be accessed by all the instances of the class.\n",
    "    \n",
    "    Instance Variables-\n",
    "    i)Defined inside __init__ method and are specific to each instance of the class.\n",
    "    ii)Mostly used for having unique data to process under each instances.\n",
    "    \n",
    "Example:\n",
    "    \n",
    "class Car:\n",
    "    engine=1 #class variable\n",
    "    def __init__(self,brand,Tyres):\n",
    "    #Brand and tyres are attributes which stores data from the arguments passed\n",
    "        self.brand=brand #Instance Variable 1\n",
    "        self.Tyres=Tyres #Instance Variable 2\n",
    "        print(f'{self.brand} has {self.engine} engine and {self.Tyres} tyres')\n",
    "Car1=Car('Honda',4)"
   ]
  },
  {
   "cell_type": "code",
   "execution_count": null,
   "id": "ba148148-614e-4741-8a18-734fab2c7b07",
   "metadata": {},
   "outputs": [],
   "source": [
    "Question:\n",
    "    6)What is the purpose of the self parameter in Python class methods?\n",
    "    \n",
    "Answer:\n",
    "    Class Variables-\n",
    "    i)Class variables are declared within the class but outside the methods.\n",
    "    ii)The class variables can be accessed by all the instances of the class.\n",
    "    \n",
    "    Instance Variables-\n",
    "    i)Defined inside __init__ method and are specific to each instance of the class.\n",
    "    ii)Mostly used for having unique data to process under each instances.\n",
    "    \n",
    "Example:"
   ]
  },
  {
   "cell_type": "code",
   "execution_count": 39,
   "id": "2d28aa12-93df-4e1f-bfdc-b9cf33285deb",
   "metadata": {},
   "outputs": [
    {
     "name": "stdout",
     "output_type": "stream",
     "text": [
      "Rich Dad Poor Dad\n",
      "Available copies after checkout are 199\n",
      "Available copies after checkout are 198\n",
      "Available copies after the returned book are 199\n",
      "The book details are :\n",
      "Title                              :Rich Dad Poor Dad\n",
      "Author                             :Robert Kiyosaki\n",
      "International Standard Book Number :9876543\n",
      "Publication Year                   :1999\n",
      "Available Copies                   :199\n"
     ]
    }
   ],
   "source": [
    "#Question 7:Library Management System\n",
    "\n",
    "class Library():\n",
    "    def __init__ (self,title,author,isbn,publ_year,avlbl_cpy):\n",
    "        self.title=title\n",
    "        self.author=author\n",
    "        self.isbn=isbn\n",
    "        self.publ_year=publ_year\n",
    "        self.avlbl_cpy=avlbl_cpy\n",
    "    def check_out(self):\n",
    "        self.avlbl_cpy = self.avlbl_cpy - 1\n",
    "        print(f'Available copies after checkout are {self.avlbl_cpy}')\n",
    "    def return_book(self):\n",
    "        self.avlbl_cpy = self.avlbl_cpy + 1\n",
    "        print(f'Available copies after the returned book are {self.avlbl_cpy}')\n",
    "    def display_book_info(self):\n",
    "        print(f'The book details are :')\n",
    "        print(f'Title                              :{self.title}')\n",
    "        print(f'Author                             :{self.author}')\n",
    "        print(f'International Standard Book Number :{self.isbn}')\n",
    "        print(f'Publication Year                   :{self.publ_year}')\n",
    "        print(f'Available Copies                   :{self.avlbl_cpy}')\n",
    "        \n",
    "Book1=Library('Rich Dad Poor Dad','Robert Kiyosaki', 9876543, 1999, 200)\n",
    "     \n",
    "print(Book1.title)\n",
    "\n",
    "Book1.check_out()\n",
    "Book1.check_out()\n",
    "Book1.return_book()\n",
    "\n",
    "\n",
    "Book1.display_book_info()\n"
   ]
  },
  {
   "cell_type": "code",
   "execution_count": 50,
   "id": "6ba67b71-8420-4b7e-8031-e51bafd2bd72",
   "metadata": {},
   "outputs": [
    {
     "name": "stdout",
     "output_type": "stream",
     "text": [
      "Music Concert\n",
      "The ticket details are :\n",
      "Ticket ID                          :12345\n",
      "Event Name                         :Music Concert\n",
      "Event Date                         :20-01-2024\n",
      "Event Venue                        :Chennai\n",
      "Seat Number                        :17\n",
      "Price                              :18000\n",
      "Reservation Status                 :Reserved\n",
      "Ticket status after cancellation is : Unreserved\n",
      "The ticket details are :\n",
      "Ticket ID                          :12345\n",
      "Event Name                         :Music Concert\n",
      "Event Date                         :20-01-2024\n",
      "Event Venue                        :Chennai\n",
      "Seat Number                        :17\n",
      "Price                              :18000\n",
      "Reservation Status                 :Unreserved\n",
      "Ticket status is already Unreserved\n",
      "Ticket status after reservation is : Reserved\n",
      "The ticket details are :\n",
      "Ticket ID                          :12345\n",
      "Event Name                         :Music Concert\n",
      "Event Date                         :20-01-2024\n",
      "Event Venue                        :Chennai\n",
      "Seat Number                        :17\n",
      "Price                              :18000\n",
      "Reservation Status                 :Reserved\n"
     ]
    }
   ],
   "source": [
    "#Question 8: Ticket Booking System\n",
    "class Ticket():\n",
    "    def __init__ (self,ticket_id,event_name,event_date,venue,seat_number,price,is_reserved):\n",
    "        self.ticket_id=ticket_id\n",
    "        self.event_name=event_name\n",
    "        self.event_date=event_date\n",
    "        self.venue=venue\n",
    "        self.seat_number=seat_number\n",
    "        self.price=price\n",
    "        self.is_reserved=is_reserved\n",
    "    def reserve_ticket(self):\n",
    "        if self.is_reserved == 'Unreserved':\n",
    "            self.is_reserved = 'Reserved'\n",
    "            print(f'Ticket status after reservation is : {self.is_reserved}')\n",
    "        else:\n",
    "            print(f'Ticket status is already {self.is_reserved}')\n",
    "    def cancel_reservation(self):\n",
    "        if self.is_reserved == 'Reserved':\n",
    "            self.is_reserved = 'Unreserved'\n",
    "            print(f'Ticket status after cancellation is : {self.is_reserved}')\n",
    "        else:\n",
    "            print(f'Ticket status is already {self.is_reserved}')\n",
    "    def display_ticket_info(self):\n",
    "        print(f'The ticket details are :')\n",
    "        print(f'Ticket ID                          :{self.ticket_id}')\n",
    "        print(f'Event Name                         :{self.event_name}')\n",
    "        print(f'Event Date                         :{self.event_date}')\n",
    "        print(f'Event Venue                        :{self.venue}')\n",
    "        print(f'Seat Number                        :{self.seat_number}') \n",
    "        print(f'Price                              :{self.price}') \n",
    "        print(f'Reservation Status                 :{self.is_reserved}') \n",
    "        \n",
    "        \n",
    "Ticket1=Ticket(12345,'Music Concert','20-01-2024','Chennai',17, 18000, 'Reserved')\n",
    "\n",
    "print(Ticket1.event_name)\n",
    "\n",
    "Ticket1.display_ticket_info()\n",
    "\n",
    "Ticket1.cancel_reservation()\n",
    "Ticket1.display_ticket_info()\n",
    "Ticket1.cancel_reservation()\n",
    "Ticket1.reserve_ticket()\n",
    "Ticket1.display_ticket_info()"
   ]
  },
  {
   "cell_type": "code",
   "execution_count": 62,
   "id": "a01e9ea8-f0a7-4f33-b7f5-ef7c10622f6e",
   "metadata": {},
   "outputs": [
    {
     "name": "stdout",
     "output_type": "stream",
     "text": [
      "The items in shopping cart are :['Apples', 'Rice', 'Oil', 'Sugar']\n",
      "Item \"Petrol\" not found in cart\n",
      "After adding Atta,The items in shopping cart are :['Apples', 'Rice', 'Oil', 'Sugar', 'Atta']\n",
      "The shopping cart has been emptied ['No items in the cart']\n",
      "After adding Honey,The items in shopping cart are :['Honey']\n"
     ]
    }
   ],
   "source": [
    "#Question 9: Shopping Cart\n",
    "class ShoppingCart():\n",
    "    def __init__ (self,items):\n",
    "        self.items=items\n",
    "\n",
    "    def add_item(self, item):\n",
    "\n",
    "        if self.items[0]=='No items in the cart':\n",
    "            self.items=[]\n",
    "        self.items.append(item)\n",
    "        print(f'After adding {item},The items in shopping cart are :{self.items}')\n",
    "        \n",
    "    def remove_item(self, item):\n",
    "        if self.items[0]=='No items in the cart':\n",
    "            print('Cannot remove item, Cart is empty')\n",
    "        else:\n",
    "            if item in self.items:\n",
    "                self.items.remove(item)\n",
    "                print(f'After removing {item},The items in shopping cart are :{self.items}')\n",
    "            else:\n",
    "                print(f'Item \"{item}\" not found in cart')\n",
    "\n",
    "    def view_cart(self):\n",
    "        print(f'The items in shopping cart are :{self.items}')\n",
    "        \n",
    "    def clear_cart(self):\n",
    "        self.items=['No items in the cart']\n",
    "        print(f'The shopping cart has been emptied {self.items}')\n",
    "        \n",
    "        \n",
    "Cart1=ShoppingCart(['Apples','Rice','Oil','Sugar'])\n",
    "\n",
    "Cart1.view_cart()\n",
    "\n",
    "Cart1.remove_item('Petrol')\n",
    "\n",
    "Cart1.add_item('Atta')\n",
    "\n",
    "Cart1.clear_cart()\n",
    "\n",
    "Cart1.add_item('Honey')"
   ]
  },
  {
   "cell_type": "code",
   "execution_count": 92,
   "id": "5e6c60f7-55ae-4eb5-8fd6-df9a957bf2ff",
   "metadata": {},
   "outputs": [
    {
     "name": "stdout",
     "output_type": "stream",
     "text": [
      "The Attendance details of the student John are as follows :\n",
      "Date       Status\n",
      "27-12-2023 Present\n",
      "26-12-2023 Absent\n",
      "The Attendance details of the student John after update are as follows :\n",
      "Date       Status\n",
      "27-12-2023 Present\n",
      "26-12-2023 Absent\n",
      "25-12-2023 Present\n",
      "The Average Attendance % of student John is : 66\n"
     ]
    }
   ],
   "source": [
    "#Question 10: School Management system\n",
    "class Student():\n",
    "    def __init__ (self, name, age, grade, student_id, attendance):\n",
    "        self.name=name\n",
    "        self.age=age\n",
    "        self.grade=grade\n",
    "        self.student_id=student_id\n",
    "        self.attendance=attendance #date and staus format\n",
    "\n",
    "    def update_attendance(self, date, status):\n",
    "        attendance_current=[]\n",
    "        attendance_current.append(date)\n",
    "        attendance_current.append(status)\n",
    "        self.attendance.append(attendance_current)\n",
    "        print(f'The Attendance details of the student {self.name} after update are as follows :')\n",
    "        print(f'Date       Status')\n",
    "        for i in range(len(self.attendance)):\n",
    "            print(f'{self.attendance[i][0]} {self.attendance[i][1]}')\n",
    "        \n",
    "    def get_attendance(self):\n",
    "        print(f'The Attendance details of the student {self.name} are as follows :')\n",
    "        print(f'Date       Status')\n",
    "        for i in range(len(self.attendance)):\n",
    "            print(f'{self.attendance[i][0]} {self.attendance[i][1]}')\n",
    "        \n",
    "    def get_average_attendance(self):\n",
    "        total_days= len(self.attendance)\n",
    "        no_days_presnt=0\n",
    "        for i in self.attendance:\n",
    "            if i[1]== 'Present':\n",
    "                no_days_presnt+=1\n",
    "        Avg=int((no_days_presnt/total_days)*100)\n",
    "                \n",
    "        print(f'The Average Attendance % of student {self.name} is : {Avg}')\n",
    "\n",
    "        \n",
    "Student1=Student('John',12,8,123,[['27-12-2023','Present'],['26-12-2023','Absent']])\n",
    "\n",
    "Student1.get_attendance()\n",
    "Student1.update_attendance('25-12-2023','Present')\n",
    "Student1.get_average_attendance()"
   ]
  },
  {
   "cell_type": "code",
   "execution_count": 70,
   "id": "97a0a104-cae9-4bb4-a27a-1272ee8bc526",
   "metadata": {},
   "outputs": [
    {
     "name": "stdout",
     "output_type": "stream",
     "text": [
      "1\n"
     ]
    }
   ],
   "source": []
  },
  {
   "cell_type": "code",
   "execution_count": null,
   "id": "1c5c20c1-35d0-4bf3-86f0-74ad669cea96",
   "metadata": {},
   "outputs": [],
   "source": []
  }
 ],
 "metadata": {
  "kernelspec": {
   "display_name": "Python 3 (ipykernel)",
   "language": "python",
   "name": "python3"
  },
  "language_info": {
   "codemirror_mode": {
    "name": "ipython",
    "version": 3
   },
   "file_extension": ".py",
   "mimetype": "text/x-python",
   "name": "python",
   "nbconvert_exporter": "python",
   "pygments_lexer": "ipython3",
   "version": "3.10.6"
  }
 },
 "nbformat": 4,
 "nbformat_minor": 5
}
